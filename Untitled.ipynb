{
 "cells": [
  {
   "cell_type": "code",
   "execution_count": 8,
   "metadata": {},
   "outputs": [
    {
     "name": "stdout",
     "output_type": "stream",
     "text": [
      "20 20\n",
      "20 20\n",
      "20 20\n",
      "20 20\n"
     ]
    }
   ],
   "source": [
    "import pandas as pd\n",
    "import numpy as np\n",
    "\n",
    "d = {i:None for i in range(4)}\n",
    "\n",
    "for i in range(4):\n",
    "    df = pd.read_csv(\"./aruco\"+str(i+1)+\".csv\")\n",
    "    df1 = df[:20]\n",
    "    df2 = df[20:]\n",
    "    l = [list(df1['ArUco ID']) , list(df2['ArUco ID']) ]\n",
    "    d[i] = l\n",
    "print(len(d[0][0]),len(d[0][1]))\n",
    "print(len(d[1][0]),len(d[1][1]))\n",
    "print(len(d[2][0]),len(d[2][1]))\n",
    "print(len(d[3][0]),len(d[3][1]))"
   ]
  },
  {
   "cell_type": "code",
   "execution_count": null,
   "metadata": {},
   "outputs": [],
   "source": []
  }
 ],
 "metadata": {
  "kernelspec": {
   "display_name": "Python 3",
   "language": "python",
   "name": "python3"
  },
  "language_info": {
   "codemirror_mode": {
    "name": "ipython",
    "version": 3
   },
   "file_extension": ".py",
   "mimetype": "text/x-python",
   "name": "python",
   "nbconvert_exporter": "python",
   "pygments_lexer": "ipython3",
   "version": "3.5.2"
  }
 },
 "nbformat": 4,
 "nbformat_minor": 2
}
